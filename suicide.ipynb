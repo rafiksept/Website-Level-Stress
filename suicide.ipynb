{
 "cells": [
  {
   "cell_type": "code",
   "execution_count": 1,
   "id": "0552b912",
   "metadata": {},
   "outputs": [],
   "source": [
    "import pandas as pd\n",
    "import numpy as np\n"
   ]
  },
  {
   "cell_type": "code",
   "execution_count": 2,
   "id": "3c09a451",
   "metadata": {},
   "outputs": [],
   "source": [
    "df = pd.read_csv('Suicide_Detection.csv' )"
   ]
  },
  {
   "cell_type": "code",
   "execution_count": 3,
   "id": "45ae56fa",
   "metadata": {},
   "outputs": [],
   "source": [
    "df_baru = df.drop(['Unnamed: 0'], axis = 1)"
   ]
  },
  {
   "cell_type": "code",
   "execution_count": 4,
   "id": "e0f6f289",
   "metadata": {},
   "outputs": [
    {
     "data": {
      "text/html": [
       "<div>\n",
       "<style scoped>\n",
       "    .dataframe tbody tr th:only-of-type {\n",
       "        vertical-align: middle;\n",
       "    }\n",
       "\n",
       "    .dataframe tbody tr th {\n",
       "        vertical-align: top;\n",
       "    }\n",
       "\n",
       "    .dataframe thead th {\n",
       "        text-align: right;\n",
       "    }\n",
       "</style>\n",
       "<table border=\"1\" class=\"dataframe\">\n",
       "  <thead>\n",
       "    <tr style=\"text-align: right;\">\n",
       "      <th></th>\n",
       "      <th>text</th>\n",
       "      <th>class</th>\n",
       "    </tr>\n",
       "  </thead>\n",
       "  <tbody>\n",
       "    <tr>\n",
       "      <th>0</th>\n",
       "      <td>Ex Wife Threatening SuicideRecently I left my ...</td>\n",
       "      <td>suicide</td>\n",
       "    </tr>\n",
       "    <tr>\n",
       "      <th>1</th>\n",
       "      <td>Am I weird I don't get affected by compliments...</td>\n",
       "      <td>non-suicide</td>\n",
       "    </tr>\n",
       "    <tr>\n",
       "      <th>2</th>\n",
       "      <td>Finally 2020 is almost over... So I can never ...</td>\n",
       "      <td>non-suicide</td>\n",
       "    </tr>\n",
       "    <tr>\n",
       "      <th>3</th>\n",
       "      <td>i need helpjust help me im crying so hard</td>\n",
       "      <td>suicide</td>\n",
       "    </tr>\n",
       "    <tr>\n",
       "      <th>4</th>\n",
       "      <td>I’m so lostHello, my name is Adam (16) and I’v...</td>\n",
       "      <td>suicide</td>\n",
       "    </tr>\n",
       "  </tbody>\n",
       "</table>\n",
       "</div>"
      ],
      "text/plain": [
       "                                                text        class\n",
       "0  Ex Wife Threatening SuicideRecently I left my ...      suicide\n",
       "1  Am I weird I don't get affected by compliments...  non-suicide\n",
       "2  Finally 2020 is almost over... So I can never ...  non-suicide\n",
       "3          i need helpjust help me im crying so hard      suicide\n",
       "4  I’m so lostHello, my name is Adam (16) and I’v...      suicide"
      ]
     },
     "execution_count": 4,
     "metadata": {},
     "output_type": "execute_result"
    }
   ],
   "source": [
    "df_baru.head()"
   ]
  },
  {
   "cell_type": "code",
   "execution_count": 5,
   "id": "d1303f2a",
   "metadata": {},
   "outputs": [
    {
     "data": {
      "text/plain": [
       "non-suicide    116037\n",
       "suicide        116037\n",
       "Name: class, dtype: int64"
      ]
     },
     "execution_count": 5,
     "metadata": {},
     "output_type": "execute_result"
    }
   ],
   "source": [
    "df['class'].value_counts()"
   ]
  },
  {
   "cell_type": "code",
   "execution_count": 6,
   "id": "a55ddeeb",
   "metadata": {},
   "outputs": [
    {
     "data": {
      "text/plain": [
       "array(['non-suicide', 'suicide'], dtype='<U11')"
      ]
     },
     "execution_count": 6,
     "metadata": {},
     "output_type": "execute_result"
    }
   ],
   "source": [
    "from sklearn.preprocessing import LabelBinarizer\n",
    "\n",
    "X = df['text'].values\n",
    "y = df['class'].values\n",
    "\n",
    "lb = LabelBinarizer()\n",
    "y = lb.fit_transform(y).ravel()\n",
    "lb.classes_"
   ]
  },
  {
   "cell_type": "code",
   "execution_count": 7,
   "id": "f978e26a",
   "metadata": {},
   "outputs": [],
   "source": [
    "from sklearn.model_selection import train_test_split"
   ]
  },
  {
   "cell_type": "code",
   "execution_count": 8,
   "id": "2747dc4d",
   "metadata": {},
   "outputs": [],
   "source": [
    "X_train, X_test, y_train, y_test = train_test_split(X, y, test_size = 0.25, random_state = 0) "
   ]
  },
  {
   "cell_type": "code",
   "execution_count": 9,
   "id": "74a5a6ba",
   "metadata": {},
   "outputs": [],
   "source": [
    "from sklearn.feature_extraction.text import TfidfVectorizer\n",
    "\n",
    "vectorizer = TfidfVectorizer(stop_words='english')\n",
    "\n",
    "X_train_tfidf = vectorizer.fit_transform(X_train)\n",
    "X_test_tfidf = vectorizer.transform(X_test)"
   ]
  },
  {
   "cell_type": "code",
   "execution_count": 10,
   "id": "b78e51e5",
   "metadata": {},
   "outputs": [
    {
     "name": "stdout",
     "output_type": "stream",
     "text": [
      "pred : 1 - teks : Saying stuff I’ve never said before I dieDon’t read this if you’re here to help me. I don’t want help. I don’t want advice or kind words. I just want to be able to vent and say stuff I never got the chance to before I die. So please just help someone else. Thank you.\n",
      "\n",
      "How the fuck am I still alive? I didn’t think I’d make it past 12. Somehow, against every single odd, I’m finally an adult. I barely made it through my last year of high school. How am I still here?\n",
      "\n",
      "I’ve been taking antidepressants on and off for a year now. I just get too depressed to take them, like why do I deserve them? What did I ever do to be able to deserve happiness? I didn’t do anything good, so why should I be rewarded with it. I finally was able to take them for a few solid weeks in a row now, and then they suddenly just stopped. I’m fucking depressed as hell now and I relapsed and cut myself for the first time in months. I can’t even do it with a knife, I just use my house key or my nails. That’s how much of a pussy I am. Imagine not even cutting yourself right.\n",
      "\n",
      "I have lots of online friends that I know will miss me when I’m gone. I love them all and I hope they never find this message and have to read it. And I have a cat. She’s my baby and I love her more than anything. I have a dad who will likely follow in my footsteps if I suck up the courage and actually do it. I have a mom who I haven’t spoken to in months, I inherited my depression through her.\n",
      "\n",
      "I’m a retard. I have autism. People like me are not needed in this world. Why the fuck should anyone waste more resources on a disabled freak like me? I’ve already taken so much oxygen and food and water to raise. I shouldn’t have to take any more.\n",
      "\n",
      "I just wish someone else could have been born to my family instead of me. Not my mom, but my dad and his fiancé. They’re such good, kind people. They deserve a happy child who isn’t such a fuck-up. Anyone would love to be a part of this family. I wish I could just give this life to someone else who deserves it more than I do. Because now it seems it’s just going to waste.\n",
      "\n",
      "I fell in love with someone last year. I’ve never been able to experience emotion or truly form a connection with anyone. But he changed my entire life. I love him so deeply and I would do anything for him. He’s so perfect in literally every way but he never saw it. He’s suicidal like me. He never loved me, and he eventually just left and I haven’t seen him for a long while. I always wished for his happiness whenever it was 11:11 or whenever I blew an eyelash. I hope he’s happy where he is. If I could drain my happiness out of me before I die and donate to him, i would. \n",
      "\n",
      "My mom doesn’t give a shit about me. She let some girl fucking assault me. She didn’t rape me or anything but she still touched me. I hate her so much but I miss her so much too. I don’t understand why I even care at all about her. I hated her before I finally moved out. I vowed never to see her or talk to her again. We talked so little when I lived with her that she would come to my room crying at night begging me to talk to her cus her girlfriend yelled at her again. And I just ignored her because she never fed me. Imagine ignoring your crying mother. I’m such a bad person. I deserve to die.\n",
      "\n",
      "Am I even going to go through with it? I don’t know. I feel much more level-headed than the other times I considered it, so I might actually do it. I don’t know. The last time I tried I literally didn’t kill myself because I FORGOT. Imagine forgetting to kill yourself. It was probably not going to work out anyway, it was a bad plan. I’d get my blood drawn to donate, and since I’d be lightheaded anyways hopefully the following overdose would be easier? I don’t know. \n",
      "\n",
      "If you read all the way down to here... thank you. Please don’t respond or comment. I don’t want any help. I just wanted to say some things I never got to say when I was alive, even if no one will listen. I don’t want advice or to get better. But thank you for reading this. I’m sorry to waste your time. But thank you again. Good bye.\n",
      "\n",
      "pred : 0 - teks : I was almost hit by a car on the way home todayMy body instinctively moved out of the way. Looking back on it now I'm kinda of sad that I just didn't let it hit me.\n",
      "\n",
      "pred : 0 - teks : Fun reddit fact When you search in the term “creepy” and go to communities, one of the first ones to come up is r/justneckbeardthings\n",
      "\n",
      "pred : 0 - teks : please help me settle an argument: which is better in minecraft:\n",
      "\n",
      "- pickaxes\n",
      "\n",
      "or \n",
      "\n",
      "- axes\n",
      "\n",
      "(add reasons if you feel like it)\n",
      "\n",
      "pred : 1 - teks : 28/f - I really need some open minded female friends to confide in right nowI don't feel actively suicidal but i'm stressed and overwhelmed and confused, and dealing with a suicidal person, and I'm just having a terrible time.\n",
      "\n",
      "I'm Korean American, in nursing, 28, female. I'm just wanting some girl friends. I use discord. Please.\n",
      "\n"
     ]
    }
   ],
   "source": [
    "from sklearn.linear_model import LogisticRegression\n",
    "\n",
    "model = LogisticRegression()\n",
    "model.fit(X_train_tfidf, y_train)\n",
    "y_pred = model.predict(X_test_tfidf)\n",
    "\n",
    "for pred, text in zip(y_pred[:5], X_test[:5]):\n",
    "    print(f'pred : {pred} - teks : {text}\\n')"
   ]
  },
  {
   "cell_type": "code",
   "execution_count": 11,
   "id": "356bca9f",
   "metadata": {},
   "outputs": [
    {
     "data": {
      "text/plain": [
       "array([[27392,  1634],\n",
       "       [ 2125, 26868]], dtype=int64)"
      ]
     },
     "execution_count": 11,
     "metadata": {},
     "output_type": "execute_result"
    }
   ],
   "source": [
    "from sklearn.metrics import confusion_matrix\n",
    "\n",
    "matrix = confusion_matrix(y_test, y_pred)\n",
    "matrix"
   ]
  },
  {
   "cell_type": "code",
   "execution_count": 12,
   "id": "107722ef",
   "metadata": {},
   "outputs": [
    {
     "data": {
      "text/plain": [
       "0.9352108791947465"
      ]
     },
     "execution_count": 12,
     "metadata": {},
     "output_type": "execute_result"
    }
   ],
   "source": [
    "from sklearn.metrics import accuracy_score\n",
    "\n",
    "accuracy_score(y_test, y_pred)"
   ]
  },
  {
   "cell_type": "code",
   "execution_count": 13,
   "id": "27ba7a46",
   "metadata": {},
   "outputs": [
    {
     "data": {
      "text/plain": [
       "0.9426706897761561"
      ]
     },
     "execution_count": 13,
     "metadata": {},
     "output_type": "execute_result"
    }
   ],
   "source": [
    "from sklearn.metrics import precision_score\n",
    "\n",
    "precision_score(y_test, y_pred)"
   ]
  },
  {
   "cell_type": "code",
   "execution_count": 14,
   "id": "d471152e",
   "metadata": {},
   "outputs": [
    {
     "data": {
      "text/plain": [
       "0.9267064463836099"
      ]
     },
     "execution_count": 14,
     "metadata": {},
     "output_type": "execute_result"
    }
   ],
   "source": [
    "from sklearn.metrics import recall_score\n",
    "\n",
    "recall_score(y_test, y_pred)"
   ]
  },
  {
   "cell_type": "code",
   "execution_count": 15,
   "id": "55417fca",
   "metadata": {},
   "outputs": [
    {
     "data": {
      "text/plain": [
       "0.9346204017740674"
      ]
     },
     "execution_count": 15,
     "metadata": {},
     "output_type": "execute_result"
    }
   ],
   "source": [
    "from sklearn.metrics import f1_score\n",
    "\n",
    "f1_score(y_test, y_pred)"
   ]
  },
  {
   "cell_type": "code",
   "execution_count": 16,
   "id": "d310092a",
   "metadata": {},
   "outputs": [
    {
     "data": {
      "image/png": "[encoded data removed]",
      "text/plain": [
       "<Figure size 432x288 with 1 Axes>"
      ]
     },
     "metadata": {
      "needs_background": "light"
     },
     "output_type": "display_data"
    }
   ],
   "source": [
    "from sklearn.metrics import roc_curve, auc\n",
    "import matplotlib.pyplot as plt\n",
    "\n",
    "prob_estimates = model.predict_proba(X_test_tfidf)\n",
    "\n",
    "fpr, tpr, threshold = roc_curve(y_test, prob_estimates[:,1])\n",
    "nilai_auc = auc(fpr, tpr)\n",
    "\n",
    "plt.plot(fpr, tpr,'b', label = f'AUC={nilai_auc}')\n",
    "plt.plot([0,1],[0,1],'r--', label = 'random Classifier')\n",
    "\n",
    "plt.title('ROC')\n",
    "plt.xlabel('fallout')\n",
    "plt.ylabel('recall')\n",
    "plt.legend()\n",
    "plt.show()"
   ]
  },
  {
   "cell_type": "code",
   "execution_count": 17,
   "id": "fbda2ada",
   "metadata": {},
   "outputs": [],
   "source": [
    "import pickle"
   ]
  },
  {
   "cell_type": "code",
   "execution_count": 18,
   "id": "15d62078",
   "metadata": {},
   "outputs": [],
   "source": [
    "pickle.dump(vectorizer, open(\"vectorizer.pickle\", \"wb\"))"
   ]
  },
  {
   "cell_type": "code",
   "execution_count": 19,
   "id": "dc51dc42",
   "metadata": {},
   "outputs": [],
   "source": [
    "import pickle\n",
    "\n",
    "with open('model_web', 'wb') as files:\n",
    "    pickle.dump(vectorizer, files)\n",
    "    \n",
    "with open('model_web2', 'wb') as files:\n",
    "    pickle.dump(model, files)"
   ]
  },
  {
   "cell_type": "code",
   "execution_count": 19,
   "id": "03511928",
   "metadata": {},
   "outputs": [],
   "source": [
    "def predict(postingan):\n",
    "    from googletrans import Translator\n",
    "    translator = Translator()\n",
    "    dt1 = translator.translate(postingan)\n",
    "    kata = dt1.text\n",
    "\n",
    "    with open('model_web', 'rb') as f:\n",
    "        lr1 = pickle.load(f)\n",
    "\n",
    "    with open('model_web1', 'rb') as f:\n",
    "        lr = pickle.load(f)\n",
    "\n",
    "    posting = [kata]\n",
    "    posting1 = np.array(posting)\n",
    "    test = lr1.transform(posting1)\n",
    "\n",
    "    hasil = lr.predict_proba(test)\n",
    "    persen = (hasil[0][1])*100\n",
    "    return f'{round(persen,2)}%'\n",
    "    "
   ]
  },
  {
   "cell_type": "code",
   "execution_count": 20,
   "id": "1fa9e3d0",
   "metadata": {},
   "outputs": [
    {
     "ename": "ModuleNotFoundError",
     "evalue": "No module named 'googletrans'",
     "output_type": "error",
     "traceback": [
      "\u001b[1;31m---------------------------------------------------------------------------\u001b[0m",
      "\u001b[1;31mModuleNotFoundError\u001b[0m                       Traceback (most recent call last)",
      "\u001b[1;32m<ipython-input-20-d047a8e2ad71>\u001b[0m in \u001b[0;36m<module>\u001b[1;34m\u001b[0m\n\u001b[1;32m----> 1\u001b[1;33m \u001b[0mpredict\u001b[0m\u001b[1;33m(\u001b[0m\u001b[1;34m'saya mau mati'\u001b[0m\u001b[1;33m)\u001b[0m\u001b[1;33m\u001b[0m\u001b[1;33m\u001b[0m\u001b[0m\n\u001b[0m",
      "\u001b[1;32m<ipython-input-19-005a3e154352>\u001b[0m in \u001b[0;36mpredict\u001b[1;34m(postingan)\u001b[0m\n\u001b[0;32m      1\u001b[0m \u001b[1;32mdef\u001b[0m \u001b[0mpredict\u001b[0m\u001b[1;33m(\u001b[0m\u001b[0mpostingan\u001b[0m\u001b[1;33m)\u001b[0m\u001b[1;33m:\u001b[0m\u001b[1;33m\u001b[0m\u001b[1;33m\u001b[0m\u001b[0m\n\u001b[1;32m----> 2\u001b[1;33m     \u001b[1;32mfrom\u001b[0m \u001b[0mgoogletrans\u001b[0m \u001b[1;32mimport\u001b[0m \u001b[0mTranslator\u001b[0m\u001b[1;33m\u001b[0m\u001b[1;33m\u001b[0m\u001b[0m\n\u001b[0m\u001b[0;32m      3\u001b[0m     \u001b[0mtranslator\u001b[0m \u001b[1;33m=\u001b[0m \u001b[0mTranslator\u001b[0m\u001b[1;33m(\u001b[0m\u001b[1;33m)\u001b[0m\u001b[1;33m\u001b[0m\u001b[1;33m\u001b[0m\u001b[0m\n\u001b[0;32m      4\u001b[0m     \u001b[0mdt1\u001b[0m \u001b[1;33m=\u001b[0m \u001b[0mtranslator\u001b[0m\u001b[1;33m.\u001b[0m\u001b[0mtranslate\u001b[0m\u001b[1;33m(\u001b[0m\u001b[0mpostingan\u001b[0m\u001b[1;33m)\u001b[0m\u001b[1;33m\u001b[0m\u001b[1;33m\u001b[0m\u001b[0m\n\u001b[0;32m      5\u001b[0m     \u001b[0mkata\u001b[0m \u001b[1;33m=\u001b[0m \u001b[0mdt1\u001b[0m\u001b[1;33m.\u001b[0m\u001b[0mtext\u001b[0m\u001b[1;33m\u001b[0m\u001b[1;33m\u001b[0m\u001b[0m\n",
      "\u001b[1;31mModuleNotFoundError\u001b[0m: No module named 'googletrans'"
     ]
    }
   ],
   "source": [
    "predict('saya mau mati')"
   ]
  },
  {
   "cell_type": "code",
   "execution_count": 50,
   "id": "e415820b",
   "metadata": {},
   "outputs": [],
   "source": [
    "postingan = ['Oke gua move on nih', 'Sejujurnya gua gapede sama pkm ini, kelompok gua kompak, tpi gua jdi ketua, tapi ga pede'\n",
    "            ,'Diakui bukan mengakui','Cocok buat gua bilang :  \"kamu terlalu baik buat aku\\\" Wkwkwkw ini gara2 mamank','Bangun tidur, notif ipbm ']"
   ]
  },
  {
   "cell_type": "code",
   "execution_count": 67,
   "id": "fd9c31cb",
   "metadata": {},
   "outputs": [],
   "source": [
    "kemungkinan = []"
   ]
  },
  {
   "cell_type": "code",
   "execution_count": 68,
   "id": "7dfdfee4",
   "metadata": {},
   "outputs": [],
   "source": [
    "for i in postingan:\n",
    "    ini = predict(i)\n",
    "    kemungkinan.append(ini)"
   ]
  },
  {
   "cell_type": "code",
   "execution_count": 69,
   "id": "695f8ff7",
   "metadata": {},
   "outputs": [
    {
     "data": {
      "text/plain": [
       "['9.84%', '7.71%', '11.95%', '9.43%', '21.53%']"
      ]
     },
     "execution_count": 69,
     "metadata": {},
     "output_type": "execute_result"
    }
   ],
   "source": [
    "kemungkinan"
   ]
  },
  {
   "cell_type": "code",
   "execution_count": 75,
   "id": "91818a7b",
   "metadata": {},
   "outputs": [],
   "source": [
    "def tampilan(postingan, kemungkinan):\n",
    "    df = pd.DataFrame({'Postingan': postingan,\n",
    "                      'Level Depresi': kemungkinan},\n",
    "                      index = np.arange(1, len(postingan) + 1))\n",
    "    return df"
   ]
  },
  {
   "cell_type": "code",
   "execution_count": 78,
   "id": "c2be5545",
   "metadata": {},
   "outputs": [
    {
     "name": "stdout",
     "output_type": "stream",
     "text": [
      "Level Stress Faiz Lewat 5 Postingan Terakhir\n"
     ]
    },
    {
     "data": {
      "text/html": [
       "<div>\n",
       "<style scoped>\n",
       "    .dataframe tbody tr th:only-of-type {\n",
       "        vertical-align: middle;\n",
       "    }\n",
       "\n",
       "    .dataframe tbody tr th {\n",
       "        vertical-align: top;\n",
       "    }\n",
       "\n",
       "    .dataframe thead th {\n",
       "        text-align: right;\n",
       "    }\n",
       "</style>\n",
       "<table border=\"1\" class=\"dataframe\">\n",
       "  <thead>\n",
       "    <tr style=\"text-align: right;\">\n",
       "      <th></th>\n",
       "      <th>Postingan</th>\n",
       "      <th>Level Depresi</th>\n",
       "    </tr>\n",
       "  </thead>\n",
       "  <tbody>\n",
       "    <tr>\n",
       "      <th>1</th>\n",
       "      <td>Oke gua move on nih</td>\n",
       "      <td>9.84%</td>\n",
       "    </tr>\n",
       "    <tr>\n",
       "      <th>2</th>\n",
       "      <td>Sejujurnya gua gapede sama pkm ini, kelompok g...</td>\n",
       "      <td>7.71%</td>\n",
       "    </tr>\n",
       "    <tr>\n",
       "      <th>3</th>\n",
       "      <td>Diakui bukan mengakui</td>\n",
       "      <td>11.95%</td>\n",
       "    </tr>\n",
       "    <tr>\n",
       "      <th>4</th>\n",
       "      <td>Cocok buat gua bilang :  \"kamu terlalu baik bu...</td>\n",
       "      <td>9.43%</td>\n",
       "    </tr>\n",
       "    <tr>\n",
       "      <th>5</th>\n",
       "      <td>Bangun tidur, notif ipbm</td>\n",
       "      <td>21.53%</td>\n",
       "    </tr>\n",
       "  </tbody>\n",
       "</table>\n",
       "</div>"
      ],
      "text/plain": [
       "                                           Postingan Level Depresi\n",
       "1                                Oke gua move on nih         9.84%\n",
       "2  Sejujurnya gua gapede sama pkm ini, kelompok g...         7.71%\n",
       "3                              Diakui bukan mengakui        11.95%\n",
       "4  Cocok buat gua bilang :  \"kamu terlalu baik bu...         9.43%\n",
       "5                          Bangun tidur, notif ipbm         21.53%"
      ]
     },
     "metadata": {},
     "output_type": "display_data"
    }
   ],
   "source": [
    "print('Level Stress Faiz Lewat 5 Postingan Terakhir')\n",
    "display(tampilan(postingan, kemungkinan))"
   ]
  },
  {
   "cell_type": "code",
   "execution_count": 79,
   "id": "f70c4a0c",
   "metadata": {},
   "outputs": [],
   "source": [
    "emte = ['agak gak terima kenyataan kalo w udh ketinggal 3 vol hai miiko, bahkan 2022 nanti udah ada vol 34. selama ini duit w kemana aja ya? Wajah menangis kencangTangan melipat Ternyata bener udah selama itu w gak beli dan baca komik (buku) lagi',\n",
    "        'INI JUGA 2 OKNUM INI KENAPA GEMES BGT SIH KEK DR CERITA F4 SEBELUM2NYA JUGA XI MEN XIAO YOU TUH QJEIEIRORPDJSAHSGJ INI JUGA 2 OKNUM INI KENAPA GEMES BGT SIH KEK DR CERITA F4 SEBELUM2NYA JUGA XI MEN XIAO YOU TUH QJEIEIRORPDJSAHSGJ',\n",
    "        'dew lu jan begitu ya tolong. w males ntn f4 soalnya kek ya udh tau critanya dr bbrp negara sebelumnya, TAPI JAN SAMPE INI GARA2 U BKIN W NTN PLIS.',\n",
    "        'gua sibuk. sibuk nge-series, nge-webtoon, nge-fangirl, nge-au, ngebadut kapal tidak real',\n",
    "        'sebnya gua lg bad mood bgt hari ini tpi nasgor yg w makan enak... jadi hepi kiyowo dikit']"
   ]
  },
  {
   "cell_type": "code",
   "execution_count": 80,
   "id": "eb443054",
   "metadata": {},
   "outputs": [
    {
     "name": "stdout",
     "output_type": "stream",
     "text": [
      "Level Stress Esther Lewat 5 Postingan Terakhir\n"
     ]
    },
    {
     "data": {
      "text/html": [
       "<div>\n",
       "<style scoped>\n",
       "    .dataframe tbody tr th:only-of-type {\n",
       "        vertical-align: middle;\n",
       "    }\n",
       "\n",
       "    .dataframe tbody tr th {\n",
       "        vertical-align: top;\n",
       "    }\n",
       "\n",
       "    .dataframe thead th {\n",
       "        text-align: right;\n",
       "    }\n",
       "</style>\n",
       "<table border=\"1\" class=\"dataframe\">\n",
       "  <thead>\n",
       "    <tr style=\"text-align: right;\">\n",
       "      <th></th>\n",
       "      <th>Postingan</th>\n",
       "      <th>Level Depresi</th>\n",
       "    </tr>\n",
       "  </thead>\n",
       "  <tbody>\n",
       "    <tr>\n",
       "      <th>1</th>\n",
       "      <td>agak gak terima kenyataan kalo w udh ketinggal...</td>\n",
       "      <td>24.48%</td>\n",
       "    </tr>\n",
       "    <tr>\n",
       "      <th>2</th>\n",
       "      <td>INI JUGA 2 OKNUM INI KENAPA GEMES BGT SIH KEK ...</td>\n",
       "      <td>8.31%</td>\n",
       "    </tr>\n",
       "    <tr>\n",
       "      <th>3</th>\n",
       "      <td>dew lu jan begitu ya tolong. w males ntn f4 so...</td>\n",
       "      <td>5.66%</td>\n",
       "    </tr>\n",
       "    <tr>\n",
       "      <th>4</th>\n",
       "      <td>gua sibuk. sibuk nge-series, nge-webtoon, nge-...</td>\n",
       "      <td>14.22%</td>\n",
       "    </tr>\n",
       "    <tr>\n",
       "      <th>5</th>\n",
       "      <td>sebnya gua lg bad mood bgt hari ini tpi nasgor...</td>\n",
       "      <td>14.01%</td>\n",
       "    </tr>\n",
       "  </tbody>\n",
       "</table>\n",
       "</div>"
      ],
      "text/plain": [
       "                                           Postingan Level Depresi\n",
       "1  agak gak terima kenyataan kalo w udh ketinggal...        24.48%\n",
       "2  INI JUGA 2 OKNUM INI KENAPA GEMES BGT SIH KEK ...         8.31%\n",
       "3  dew lu jan begitu ya tolong. w males ntn f4 so...         5.66%\n",
       "4  gua sibuk. sibuk nge-series, nge-webtoon, nge-...        14.22%\n",
       "5  sebnya gua lg bad mood bgt hari ini tpi nasgor...        14.01%"
      ]
     },
     "metadata": {},
     "output_type": "display_data"
    }
   ],
   "source": [
    "kemungkinan1 = []\n",
    "\n",
    "for i in emte:\n",
    "    ini = predict(i)\n",
    "    kemungkinan1.append(ini)\n",
    "    \n",
    "print('Level Stress Esther Lewat 5 Postingan Terakhir')\n",
    "display(tampilan(emte, kemungkinan1))"
   ]
  },
  {
   "cell_type": "code",
   "execution_count": 81,
   "id": "390bfb34",
   "metadata": {},
   "outputs": [
    {
     "name": "stdout",
     "output_type": "stream",
     "text": [
      "Level Stress Desva Lewat 5 Postingan Terakhir\n"
     ]
    },
    {
     "data": {
      "text/html": [
       "<div>\n",
       "<style scoped>\n",
       "    .dataframe tbody tr th:only-of-type {\n",
       "        vertical-align: middle;\n",
       "    }\n",
       "\n",
       "    .dataframe tbody tr th {\n",
       "        vertical-align: top;\n",
       "    }\n",
       "\n",
       "    .dataframe thead th {\n",
       "        text-align: right;\n",
       "    }\n",
       "</style>\n",
       "<table border=\"1\" class=\"dataframe\">\n",
       "  <thead>\n",
       "    <tr style=\"text-align: right;\">\n",
       "      <th></th>\n",
       "      <th>Postingan</th>\n",
       "      <th>Level Depresi</th>\n",
       "    </tr>\n",
       "  </thead>\n",
       "  <tbody>\n",
       "    <tr>\n",
       "      <th>1</th>\n",
       "      <td>Gue bingung mau batuk atau ketawa</td>\n",
       "      <td>7.18%</td>\n",
       "    </tr>\n",
       "    <tr>\n",
       "      <th>2</th>\n",
       "      <td>Pengen punya dream deh</td>\n",
       "      <td>14.09%</td>\n",
       "    </tr>\n",
       "    <tr>\n",
       "      <th>3</th>\n",
       "      <td>Bentar mau mengsedih</td>\n",
       "      <td>22.4%</td>\n",
       "    </tr>\n",
       "    <tr>\n",
       "      <th>4</th>\n",
       "      <td>Sekian twit dari saya, muk tidur guiiss byeee</td>\n",
       "      <td>9.86%</td>\n",
       "    </tr>\n",
       "    <tr>\n",
       "      <th>5</th>\n",
       "      <td>Itorookkkk</td>\n",
       "      <td>10.08%</td>\n",
       "    </tr>\n",
       "  </tbody>\n",
       "</table>\n",
       "</div>"
      ],
      "text/plain": [
       "                                       Postingan Level Depresi\n",
       "1              Gue bingung mau batuk atau ketawa         7.18%\n",
       "2                         Pengen punya dream deh        14.09%\n",
       "3                           Bentar mau mengsedih         22.4%\n",
       "4  Sekian twit dari saya, muk tidur guiiss byeee         9.86%\n",
       "5                                     Itorookkkk        10.08%"
      ]
     },
     "metadata": {},
     "output_type": "display_data"
    }
   ],
   "source": [
    "desva = ['Gue bingung mau batuk atau ketawa',\n",
    "         'Pengen punya dream deh',\n",
    "         'Bentar mau mengsedih',\n",
    "         'Sekian twit dari saya, muk tidur guiiss byeee',\n",
    "         'Itorookkkk']\n",
    "\n",
    "kemungkinan2 = []\n",
    "\n",
    "for i in desva:\n",
    "    ini = predict(i)\n",
    "    kemungkinan2.append(ini)\n",
    "    \n",
    "print('Level Stress Desva Lewat 5 Postingan Terakhir')\n",
    "display(tampilan(desva, kemungkinan2))"
   ]
  },
  {
   "cell_type": "code",
   "execution_count": 83,
   "id": "46e65cb0",
   "metadata": {},
   "outputs": [
    {
     "name": "stdout",
     "output_type": "stream",
     "text": [
      "Level Stress Nahdah Lewat 5 Postingan Terakhir\n"
     ]
    },
    {
     "data": {
      "text/html": [
       "<div>\n",
       "<style scoped>\n",
       "    .dataframe tbody tr th:only-of-type {\n",
       "        vertical-align: middle;\n",
       "    }\n",
       "\n",
       "    .dataframe tbody tr th {\n",
       "        vertical-align: top;\n",
       "    }\n",
       "\n",
       "    .dataframe thead th {\n",
       "        text-align: right;\n",
       "    }\n",
       "</style>\n",
       "<table border=\"1\" class=\"dataframe\">\n",
       "  <thead>\n",
       "    <tr style=\"text-align: right;\">\n",
       "      <th></th>\n",
       "      <th>Postingan</th>\n",
       "      <th>Level Depresi</th>\n",
       "    </tr>\n",
       "  </thead>\n",
       "  <tbody>\n",
       "    <tr>\n",
       "      <th>1</th>\n",
       "      <td>Motto Hidup :Semua tergantung cara pandang dan...</td>\n",
       "      <td>22.0%</td>\n",
       "    </tr>\n",
       "    <tr>\n",
       "      <th>2</th>\n",
       "      <td>Tuk bisa lari lariii</td>\n",
       "      <td>6.05%</td>\n",
       "    </tr>\n",
       "    <tr>\n",
       "      <th>3</th>\n",
       "      <td>Semenjak sering minum teh. Jadi tau kalo tiap ...</td>\n",
       "      <td>11.57%</td>\n",
       "    </tr>\n",
       "    <tr>\n",
       "      <th>4</th>\n",
       "      <td>Plis plis plis HIVI asik bgtttttt dri dulu</td>\n",
       "      <td>11.84%</td>\n",
       "    </tr>\n",
       "    <tr>\n",
       "      <th>5</th>\n",
       "      <td>Ada rasa Syukur dari ga keterima pengurus kemarin</td>\n",
       "      <td>9.56%</td>\n",
       "    </tr>\n",
       "  </tbody>\n",
       "</table>\n",
       "</div>"
      ],
      "text/plain": [
       "                                           Postingan Level Depresi\n",
       "1  Motto Hidup :Semua tergantung cara pandang dan...         22.0%\n",
       "2                               Tuk bisa lari lariii         6.05%\n",
       "3  Semenjak sering minum teh. Jadi tau kalo tiap ...        11.57%\n",
       "4         Plis plis plis HIVI asik bgtttttt dri dulu        11.84%\n",
       "5  Ada rasa Syukur dari ga keterima pengurus kemarin         9.56%"
      ]
     },
     "metadata": {},
     "output_type": "display_data"
    }
   ],
   "source": [
    "nahdah = ['Motto Hidup :Semua tergantung cara pandang dan bagaimana cara menyikapinya',\n",
    "          'Tuk bisa lari lariii',\n",
    "          'Semenjak sering minum teh. Jadi tau kalo tiap merk teh rasanya beda jauh',\n",
    "          'Plis plis plis HIVI asik bgtttttt dri dulu',\n",
    "          'Ada rasa Syukur dari ga keterima pengurus kemarin']\n",
    "\n",
    "kemungkinan3 = []\n",
    "\n",
    "for i in nahdah:\n",
    "    ini = predict(i)\n",
    "    kemungkinan3.append(ini)\n",
    "    \n",
    "print('Level Stress Nahdah Lewat 5 Postingan Terakhir')\n",
    "display(tampilan(nahdah, kemungkinan3))"
   ]
  },
  {
   "cell_type": "code",
   "execution_count": null,
   "id": "2766664b",
   "metadata": {},
   "outputs": [],
   "source": []
  },
  {
   "cell_type": "code",
   "execution_count": null,
   "id": "ac9def8a",
   "metadata": {},
   "outputs": [],
   "source": []
  },
  {
   "cell_type": "code",
   "execution_count": null,
   "id": "cb7849fb",
   "metadata": {},
   "outputs": [],
   "source": []
  },
  {
   "cell_type": "code",
   "execution_count": null,
   "id": "83b15ade",
   "metadata": {},
   "outputs": [],
   "source": []
  },
  {
   "cell_type": "code",
   "execution_count": null,
   "id": "37dfc9f4",
   "metadata": {},
   "outputs": [],
   "source": []
  },
  {
   "cell_type": "code",
   "execution_count": null,
   "id": "cebdaa99",
   "metadata": {},
   "outputs": [],
   "source": []
  },
  {
   "cell_type": "code",
   "execution_count": null,
   "id": "30ca75d0",
   "metadata": {},
   "outputs": [],
   "source": []
  },
  {
   "cell_type": "code",
   "execution_count": null,
   "id": "771dc6b5",
   "metadata": {},
   "outputs": [],
   "source": []
  },
  {
   "cell_type": "code",
   "execution_count": null,
   "id": "714224b2",
   "metadata": {},
   "outputs": [],
   "source": []
  },
  {
   "cell_type": "code",
   "execution_count": null,
   "id": "1c866760",
   "metadata": {},
   "outputs": [],
   "source": []
  },
  {
   "cell_type": "code",
   "execution_count": null,
   "id": "349c83dc",
   "metadata": {},
   "outputs": [],
   "source": []
  },
  {
   "cell_type": "code",
   "execution_count": null,
   "id": "9ba2c27b",
   "metadata": {},
   "outputs": [],
   "source": []
  },
  {
   "cell_type": "code",
   "execution_count": null,
   "id": "a04ef8f6",
   "metadata": {},
   "outputs": [],
   "source": []
  },
  {
   "cell_type": "code",
   "execution_count": null,
   "id": "20b79412",
   "metadata": {},
   "outputs": [],
   "source": []
  }
 ],
 "metadata": {
  "kernelspec": {
   "display_name": "Python 3",
   "language": "python",
   "name": "python3"
  },
  "language_info": {
   "codemirror_mode": {
    "name": "ipython",
    "version": 3
   },
   "file_extension": ".py",
   "mimetype": "text/x-python",
   "name": "python",
   "nbconvert_exporter": "python",
   "pygments_lexer": "ipython3",
   "version": "3.8.8"
  }
 },
 "nbformat": 4,
 "nbformat_minor": 5
}
